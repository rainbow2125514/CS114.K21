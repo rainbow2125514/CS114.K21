{
  "nbformat": 4,
  "nbformat_minor": 0,
  "metadata": {
    "colab": {
      "name": "gannhan.ipynb",
      "provenance": [],
      "collapsed_sections": [],
      "authorship_tag": "ABX9TyMf+guXIgCBDaw4M6jZ6ki9",
      "include_colab_link": true
    },
    "kernelspec": {
      "name": "python3",
      "display_name": "Python 3"
    }
  },
  "cells": [
    {
      "cell_type": "markdown",
      "metadata": {
        "id": "view-in-github",
        "colab_type": "text"
      },
      "source": [
        "<a href=\"https://colab.research.google.com/github/rainbow2125514/CS114.K21/blob/master/gannhan.ipynb\" target=\"_parent\"><img src=\"https://colab.research.google.com/assets/colab-badge.svg\" alt=\"Open In Colab\"/></a>"
      ]
    },
    {
      "cell_type": "markdown",
      "metadata": {
        "id": "tAuUo3leMXng",
        "colab_type": "text"
      },
      "source": [
        "cách gán nhãn này đã được học trong trong bài LECT-02, cụ thể là video: https://www.youtube.com/watch?v=kgxfdTh9lz0&feature=emb_logo"
      ]
    },
    {
      "cell_type": "code",
      "metadata": {
        "id": "nAENNS1yMRdq",
        "colab_type": "code",
        "colab": {}
      },
      "source": [
        "import os\n",
        "import pandas as pd\n",
        "\n",
        "data_folders=[\"with_mask\",\"without_mask\"]\n",
        "data_names=[os.listdir(f) for f in data_folders]\n",
        "files_dict=dict(zip(data_folders,data_names))\n",
        "data_array=[]\n",
        "for (key,values) in files_dict.items():\n",
        "   for names in values:\n",
        "       data_array.append((\"dataset\"+\"/\"+key+\"/\"+names,key))\n",
        "datasets=pd.DataFrame(data_array)\n",
        "datasets.to_csv(\"data_img.csv\",index=False,header=False) "
      ],
      "execution_count": null,
      "outputs": []
    }
  ]
}