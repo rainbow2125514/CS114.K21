{
  "nbformat": 4,
  "nbformat_minor": 0,
  "metadata": {
    "colab": {
      "name": "LAB-06 BT3 LinearRegression.ipynb",
      "provenance": [],
      "collapsed_sections": [],
      "mount_file_id": "139uyKjhzBDVolDg7BILkraXG-eNHEgVw",
      "authorship_tag": "ABX9TyNBDsyerB4EivD905SKZvt5",
      "include_colab_link": true
    },
    "kernelspec": {
      "name": "python3",
      "display_name": "Python 3"
    }
  },
  "cells": [
    {
      "cell_type": "markdown",
      "metadata": {
        "id": "view-in-github",
        "colab_type": "text"
      },
      "source": [
        "<a href=\"https://colab.research.google.com/github/rainbow2125514/CS114.K21/blob/master/LAB_06_BT3_LinearRegression.ipynb\" target=\"_parent\"><img src=\"https://colab.research.google.com/assets/colab-badge.svg\" alt=\"Open In Colab\"/></a>"
      ]
    },
    {
      "cell_type": "code",
      "metadata": {
        "id": "rBkq2NocZPRv",
        "colab_type": "code",
        "outputId": "fbee321a-b224-4031-e3ab-027a0df5bf58",
        "colab": {
          "base_uri": "https://localhost:8080/",
          "height": 34
        }
      },
      "source": [
        "cd ~/../content/drive/My Drive/datacsv/\n"
      ],
      "execution_count": 64,
      "outputs": [
        {
          "output_type": "stream",
          "text": [
            "/content/drive/My Drive/datacsv\n"
          ],
          "name": "stdout"
        }
      ]
    },
    {
      "cell_type": "code",
      "metadata": {
        "id": "7oO8xEahaViE",
        "colab_type": "code",
        "colab": {}
      },
      "source": [
        "import pandas as pd\n",
        "import matplotlib.pyplot as plt\n",
        "import numpy as np\n",
        "from sklearn.linear_model import LinearRegression\n",
        "from sklearn.model_selection import train_test_split\n",
        "from sklearn.metrics import accuracy_score"
      ],
      "execution_count": 0,
      "outputs": []
    },
    {
      "cell_type": "code",
      "metadata": {
        "id": "vfhW1B4DcEr_",
        "colab_type": "code",
        "colab": {}
      },
      "source": [
        "model=LinearRegression()"
      ],
      "execution_count": 0,
      "outputs": []
    },
    {
      "cell_type": "code",
      "metadata": {
        "id": "7RY5uUuPbsAA",
        "colab_type": "code",
        "colab": {
          "base_uri": "https://localhost:8080/",
          "height": 935
        },
        "outputId": "1357d262-d957-4032-c087-b1996c0b141a"
      },
      "source": [
        "input=pd.read_csv(\"data_linear.csv\")\n",
        "input"
      ],
      "execution_count": 67,
      "outputs": [
        {
          "output_type": "execute_result",
          "data": {
            "text/html": [
              "<div>\n",
              "<style scoped>\n",
              "    .dataframe tbody tr th:only-of-type {\n",
              "        vertical-align: middle;\n",
              "    }\n",
              "\n",
              "    .dataframe tbody tr th {\n",
              "        vertical-align: top;\n",
              "    }\n",
              "\n",
              "    .dataframe thead th {\n",
              "        text-align: right;\n",
              "    }\n",
              "</style>\n",
              "<table border=\"1\" class=\"dataframe\">\n",
              "  <thead>\n",
              "    <tr style=\"text-align: right;\">\n",
              "      <th></th>\n",
              "      <th>dien tich</th>\n",
              "      <th>gia</th>\n",
              "    </tr>\n",
              "  </thead>\n",
              "  <tbody>\n",
              "    <tr>\n",
              "      <th>0</th>\n",
              "      <td>30.0000</td>\n",
              "      <td>448.524</td>\n",
              "    </tr>\n",
              "    <tr>\n",
              "      <th>1</th>\n",
              "      <td>32.4138</td>\n",
              "      <td>509.248</td>\n",
              "    </tr>\n",
              "    <tr>\n",
              "      <th>2</th>\n",
              "      <td>34.8276</td>\n",
              "      <td>535.104</td>\n",
              "    </tr>\n",
              "    <tr>\n",
              "      <th>3</th>\n",
              "      <td>37.2414</td>\n",
              "      <td>551.432</td>\n",
              "    </tr>\n",
              "    <tr>\n",
              "      <th>4</th>\n",
              "      <td>39.6552</td>\n",
              "      <td>623.418</td>\n",
              "    </tr>\n",
              "    <tr>\n",
              "      <th>5</th>\n",
              "      <td>42.0690</td>\n",
              "      <td>625.992</td>\n",
              "    </tr>\n",
              "    <tr>\n",
              "      <th>6</th>\n",
              "      <td>44.4828</td>\n",
              "      <td>655.248</td>\n",
              "    </tr>\n",
              "    <tr>\n",
              "      <th>7</th>\n",
              "      <td>46.8966</td>\n",
              "      <td>701.377</td>\n",
              "    </tr>\n",
              "    <tr>\n",
              "      <th>8</th>\n",
              "      <td>49.3103</td>\n",
              "      <td>748.918</td>\n",
              "    </tr>\n",
              "    <tr>\n",
              "      <th>9</th>\n",
              "      <td>51.7241</td>\n",
              "      <td>757.881</td>\n",
              "    </tr>\n",
              "    <tr>\n",
              "      <th>10</th>\n",
              "      <td>54.1379</td>\n",
              "      <td>831.004</td>\n",
              "    </tr>\n",
              "    <tr>\n",
              "      <th>11</th>\n",
              "      <td>56.5517</td>\n",
              "      <td>855.409</td>\n",
              "    </tr>\n",
              "    <tr>\n",
              "      <th>12</th>\n",
              "      <td>58.9655</td>\n",
              "      <td>866.707</td>\n",
              "    </tr>\n",
              "    <tr>\n",
              "      <th>13</th>\n",
              "      <td>61.3793</td>\n",
              "      <td>902.545</td>\n",
              "    </tr>\n",
              "    <tr>\n",
              "      <th>14</th>\n",
              "      <td>63.7931</td>\n",
              "      <td>952.261</td>\n",
              "    </tr>\n",
              "    <tr>\n",
              "      <th>15</th>\n",
              "      <td>66.2069</td>\n",
              "      <td>995.531</td>\n",
              "    </tr>\n",
              "    <tr>\n",
              "      <th>16</th>\n",
              "      <td>68.6207</td>\n",
              "      <td>1069.780</td>\n",
              "    </tr>\n",
              "    <tr>\n",
              "      <th>17</th>\n",
              "      <td>71.0345</td>\n",
              "      <td>1074.420</td>\n",
              "    </tr>\n",
              "    <tr>\n",
              "      <th>18</th>\n",
              "      <td>73.4483</td>\n",
              "      <td>1103.880</td>\n",
              "    </tr>\n",
              "    <tr>\n",
              "      <th>19</th>\n",
              "      <td>75.8621</td>\n",
              "      <td>1138.690</td>\n",
              "    </tr>\n",
              "    <tr>\n",
              "      <th>20</th>\n",
              "      <td>78.2759</td>\n",
              "      <td>1153.130</td>\n",
              "    </tr>\n",
              "    <tr>\n",
              "      <th>21</th>\n",
              "      <td>80.6897</td>\n",
              "      <td>1240.270</td>\n",
              "    </tr>\n",
              "    <tr>\n",
              "      <th>22</th>\n",
              "      <td>83.1034</td>\n",
              "      <td>1251.900</td>\n",
              "    </tr>\n",
              "    <tr>\n",
              "      <th>23</th>\n",
              "      <td>85.5172</td>\n",
              "      <td>1287.970</td>\n",
              "    </tr>\n",
              "    <tr>\n",
              "      <th>24</th>\n",
              "      <td>87.9310</td>\n",
              "      <td>1320.470</td>\n",
              "    </tr>\n",
              "    <tr>\n",
              "      <th>25</th>\n",
              "      <td>90.3448</td>\n",
              "      <td>1374.920</td>\n",
              "    </tr>\n",
              "    <tr>\n",
              "      <th>26</th>\n",
              "      <td>92.7586</td>\n",
              "      <td>1410.160</td>\n",
              "    </tr>\n",
              "    <tr>\n",
              "      <th>27</th>\n",
              "      <td>95.1724</td>\n",
              "      <td>1469.690</td>\n",
              "    </tr>\n",
              "    <tr>\n",
              "      <th>28</th>\n",
              "      <td>97.5862</td>\n",
              "      <td>1478.540</td>\n",
              "    </tr>\n",
              "    <tr>\n",
              "      <th>29</th>\n",
              "      <td>100.0000</td>\n",
              "      <td>1515.280</td>\n",
              "    </tr>\n",
              "  </tbody>\n",
              "</table>\n",
              "</div>"
            ],
            "text/plain": [
              "    dien tich       gia\n",
              "0     30.0000   448.524\n",
              "1     32.4138   509.248\n",
              "2     34.8276   535.104\n",
              "3     37.2414   551.432\n",
              "4     39.6552   623.418\n",
              "5     42.0690   625.992\n",
              "6     44.4828   655.248\n",
              "7     46.8966   701.377\n",
              "8     49.3103   748.918\n",
              "9     51.7241   757.881\n",
              "10    54.1379   831.004\n",
              "11    56.5517   855.409\n",
              "12    58.9655   866.707\n",
              "13    61.3793   902.545\n",
              "14    63.7931   952.261\n",
              "15    66.2069   995.531\n",
              "16    68.6207  1069.780\n",
              "17    71.0345  1074.420\n",
              "18    73.4483  1103.880\n",
              "19    75.8621  1138.690\n",
              "20    78.2759  1153.130\n",
              "21    80.6897  1240.270\n",
              "22    83.1034  1251.900\n",
              "23    85.5172  1287.970\n",
              "24    87.9310  1320.470\n",
              "25    90.3448  1374.920\n",
              "26    92.7586  1410.160\n",
              "27    95.1724  1469.690\n",
              "28    97.5862  1478.540\n",
              "29   100.0000  1515.280"
            ]
          },
          "metadata": {
            "tags": []
          },
          "execution_count": 67
        }
      ]
    },
    {
      "cell_type": "code",
      "metadata": {
        "id": "0GCmxOgLcaaX",
        "colab_type": "code",
        "colab": {}
      },
      "source": [
        "dataset=input.values"
      ],
      "execution_count": 0,
      "outputs": []
    },
    {
      "cell_type": "code",
      "metadata": {
        "id": "9O1nAux5cSL8",
        "colab_type": "code",
        "colab": {}
      },
      "source": [
        "datas=dataset[:,0].reshape(-1,1)\n",
        "target=dataset[:,1].reshape(-1,1)\n",
        "x_train,x_test,y_train,y_test=train_test_split(datas,target,train_size=0.8,test_size=0.2)"
      ],
      "execution_count": 0,
      "outputs": []
    },
    {
      "cell_type": "code",
      "metadata": {
        "id": "jBD-nxD8cjd6",
        "colab_type": "code",
        "colab": {
          "base_uri": "https://localhost:8080/",
          "height": 34
        },
        "outputId": "ff6820af-b869-4844-dc9e-90ba43ec24cf"
      },
      "source": [
        "model.fit(x_train,y_train)"
      ],
      "execution_count": 70,
      "outputs": [
        {
          "output_type": "execute_result",
          "data": {
            "text/plain": [
              "LinearRegression(copy_X=True, fit_intercept=True, n_jobs=None, normalize=False)"
            ]
          },
          "metadata": {
            "tags": []
          },
          "execution_count": 70
        }
      ]
    },
    {
      "cell_type": "code",
      "metadata": {
        "id": "BPdE9UlIdfmk",
        "colab_type": "code",
        "colab": {
          "base_uri": "https://localhost:8080/",
          "height": 34
        },
        "outputId": "21753e67-a7b6-4d8b-92f8-6af9140d53cf"
      },
      "source": [
        "model.score(x_test,y_test)"
      ],
      "execution_count": 71,
      "outputs": [
        {
          "output_type": "execute_result",
          "data": {
            "text/plain": [
              "0.9963228884201251"
            ]
          },
          "metadata": {
            "tags": []
          },
          "execution_count": 71
        }
      ]
    },
    {
      "cell_type": "code",
      "metadata": {
        "id": "o1lTBf7DfT9E",
        "colab_type": "code",
        "colab": {
          "base_uri": "https://localhost:8080/",
          "height": 296
        },
        "outputId": "653dc335-04e5-40b7-833f-ef73964310a4"
      },
      "source": [
        "plt.scatter(datas,target)\n",
        "plt.xlabel(\"mét\")\n",
        "plt.ylabel(\"giá\")\n",
        "plt.plot((datas[0],datas[len(datas)-1]),(model.predict([datas[0]])[0],model.predict([datas[len(datas)-1]])[0]),\"r\")"
      ],
      "execution_count": 75,
      "outputs": [
        {
          "output_type": "execute_result",
          "data": {
            "text/plain": [
              "[<matplotlib.lines.Line2D at 0x7f04ebc3f1d0>]"
            ]
          },
          "metadata": {
            "tags": []
          },
          "execution_count": 75
        },
        {
          "output_type": "display_data",
          "data": {
            "image/png": "[encoded data removed]",
            "text/plain": [
              "<Figure size 432x288 with 1 Axes>"
            ]
          },
          "metadata": {
            "tags": [],
            "needs_background": "light"
          }
        }
      ]
    },
    {
      "cell_type": "code",
      "metadata": {
        "id": "DOx6T9cWeXta",
        "colab_type": "code",
        "colab": {
          "base_uri": "https://localhost:8080/",
          "height": 50
        },
        "outputId": "f6c87cab-8599-4862-e6d5-a3e49b0f3c0e"
      },
      "source": [
        "x_predict=np.array([200,300]).reshape(-1,1)\n",
        "y_predicted=model.predict(x_predict)\n",
        "y_predicted"
      ],
      "execution_count": 73,
      "outputs": [
        {
          "output_type": "execute_result",
          "data": {
            "text/plain": [
              "array([[3042.95292688],\n",
              "       [4569.34831644]])"
            ]
          },
          "metadata": {
            "tags": []
          },
          "execution_count": 73
        }
      ]
    }
  ]
}